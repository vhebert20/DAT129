{
 "cells": [
  {
   "cell_type": "code",
   "execution_count": null,
   "metadata": {},
   "outputs": [],
   "source": [
    "def build_URL(search):\n",
    "    # create the URL to ping site for request\n",
    "    site_ENDPOINT = 'http://webmineral.com/data/%s.shtml#.YHd0fOhKg2x' % (search)\n",
    "    full_url = site_ENDPOINT\n",
    "    print('URL: ', full_url)\n",
    "    return full_url"
   ]
  },
  {
   "cell_type": "code",
   "execution_count": null,
   "metadata": {},
   "outputs": [],
   "source": [
    "import bs4 \n",
    "import requests\n",
    "\n",
    "# open local html file and feed the raw html into bs constructor, yielding a document tree\n",
    "# https://www.crummy.com/software/BeautifulSoup/bs4/doc/\n",
    "\n",
    "# get the mineral you want to search\n",
    "mineral = input(\"Please give me the name of a mineral of interest: \")\n",
    "# website requires it be capitalized\n",
    "min_cap = mineral.capitalize()\n",
    "# create the URL\n",
    "web_URL = build_URL(min_cap)\n",
    "# pull in the html from the website\n",
    "html = bs4.BeautifulSoup(requests.get(web_URL).text, 'html.parser')\n"
   ]
  },
  {
   "cell_type": "code",
   "execution_count": null,
   "metadata": {},
   "outputs": [],
   "source": [
    "# pull out just the text from the html as string\n",
    "search_text = html.get_text()\n",
    "print(search_text)"
   ]
  },
  {
   "cell_type": "code",
   "execution_count": null,
   "metadata": {},
   "outputs": [],
   "source": [
    "# iterate through the text and print to a list\n",
    "build_list = []\n",
    "for item in search_text:\n",
    "    # strip out all the random \\n\n",
    "    build_list.append(item.strip('\\n')) \n",
    "\n",
    "# squish the list to get rid of all the commas\n",
    "smash_list = [''.join(build_list[:])]\n",
    "\n",
    "print(smash_list)"
   ]
  },
  {
   "cell_type": "code",
   "execution_count": null,
   "metadata": {},
   "outputs": [],
   "source": [
    "import csv\n",
    "\n",
    "# get a file name\n",
    "mineral_file = input(\"What would you like to name the file, include the .csv at the end: \")\n",
    "# write html to file\n",
    "with open(mineral_file, 'w') as query_output: \n",
    "    rock_writer = csv.writer(query_output)\n",
    "    rock_writer.writerow(smash_list)"
   ]
  },
  {
   "cell_type": "code",
   "execution_count": null,
   "metadata": {},
   "outputs": [],
   "source": []
  }
 ],
 "metadata": {
  "kernelspec": {
   "display_name": "Python 3",
   "language": "python",
   "name": "python3"
  },
  "language_info": {
   "codemirror_mode": {
    "name": "ipython",
    "version": 3
   },
   "file_extension": ".py",
   "mimetype": "text/x-python",
   "name": "python",
   "nbconvert_exporter": "python",
   "pygments_lexer": "ipython3",
   "version": "3.8.5"
  }
 },
 "nbformat": 4,
 "nbformat_minor": 4
}
