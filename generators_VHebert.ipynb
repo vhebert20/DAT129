{
 "cells": [
  {
   "cell_type": "markdown",
   "metadata": {},
   "source": [
    "## Generators\n",
    "______________________\n",
    "https://www.python.org/dev/peps/pep-0255/  \n",
    "https://realpython.com/introduction-to-python-generators/  \n",
    "https://stackabuse.com/python-generators/  \n",
    "https://wiki.python.org/moin/Generators  \n",
    "https://www.youtube.com/watch?v=1t_NUJFh33Y  \n",
    "https://www.youtube.com/watch?v=vKH4jIben70 \n",
    "Intro to Python (Deitel and Deital, 2020)  \n",
    "NICS data for example:\n",
    "https://github.com/BuzzFeedNews/nics-firearm-background-checks/blob/master/data/nics-firearm-background-checks.csv"
   ]
  },
  {
   "cell_type": "markdown",
   "metadata": {},
   "source": [
    "###### Generators are (in my inexperienced Googling/reading) essentially a way to minimize the amount of memory used and speed up processes when working with large data sets . A Generator Expression is like a list comprehension, but produces values on demand.  This is called lazy evaluation. Instead of processing the whole list or file and producing the entire result, it will evaluate one instance/item at a time, and return each when called.        \n",
    "Deitel and Deitel (2020)"
   ]
  },
  {
   "cell_type": "code",
   "execution_count": null,
   "metadata": {},
   "outputs": [],
   "source": [
    "# using a list comprehension to print the values\n",
    "\n",
    "numbers = [10, 3, 7, 1, 9, 4, 2, 8, 5, 6]\n",
    "\n",
    "for value in [x ** 2 for x in numbers]: # note the brackets\n",
    "    print(value, end = ' ')"
   ]
  },
  {
   "cell_type": "code",
   "execution_count": null,
   "metadata": {},
   "outputs": [],
   "source": [
    "# using a generator expression to print the values\n",
    "\n",
    "numbers = [10, 3, 7, 1, 9, 4, 2, 8, 5, 6]\n",
    "\n",
    "for value in (x ** 2 for x in numbers): # generators use parantheses\n",
    "    print(value, end = ' ')"
   ]
  },
  {
   "cell_type": "markdown",
   "metadata": {},
   "source": [
    "###### Doesn't look much different, I know.  When put into a loop it loops through and does the calls and returns all the values for you - like a normal list comprehension.  Let's look at it a different way."
   ]
  },
  {
   "cell_type": "code",
   "execution_count": null,
   "metadata": {},
   "outputs": [],
   "source": [
    "sq_numbers = (x ** 2 for x in numbers) # we'll assign the generator expression to a varible"
   ]
  },
  {
   "cell_type": "code",
   "execution_count": null,
   "metadata": {},
   "outputs": [],
   "source": [
    "sq_numbers # now we see how it's a little different - calling sq_numbers shows us that it has created a generator object"
   ]
  },
  {
   "cell_type": "code",
   "execution_count": null,
   "metadata": {},
   "outputs": [],
   "source": [
    "next(sq_numbers) # to iterate through the generator we use the next() function"
   ]
  },
  {
   "cell_type": "code",
   "execution_count": null,
   "metadata": {},
   "outputs": [],
   "source": [
    "next(sq_numbers) # continuing to call the generator will iterate through subsequent values, one at a time"
   ]
  },
  {
   "cell_type": "markdown",
   "metadata": {},
   "source": [
    "###### Generators can also be used in functions, shockingly known as Generator Functions.  This introduces us to the yield statement.  Whereas return just returns one value, the yield will \"remember\" where you left off and then continue down the list, as you call it."
   ]
  },
  {
   "cell_type": "code",
   "execution_count": null,
   "metadata": {},
   "outputs": [],
   "source": [
    "# create an infinite sequence\n",
    "\n",
    "def inf_seq():\n",
    "    num = 0\n",
    "    while True: # infinite because it's always True\n",
    "        yield num # return (loses state) vs yield (maintains state)\n",
    "        num += 1        "
   ]
  },
  {
   "cell_type": "code",
   "execution_count": null,
   "metadata": {},
   "outputs": [],
   "source": [
    "all_the_numbers = inf_seq()  # assign to a variable"
   ]
  },
  {
   "cell_type": "code",
   "execution_count": null,
   "metadata": {},
   "outputs": [],
   "source": [
    "print(all_the_numbers) # print to see the created generator object"
   ]
  },
  {
   "cell_type": "code",
   "execution_count": null,
   "metadata": {},
   "outputs": [],
   "source": [
    "next(all_the_numbers) # use next to start using the generator - yields first value then waits until called again"
   ]
  },
  {
   "cell_type": "code",
   "execution_count": null,
   "metadata": {},
   "outputs": [],
   "source": [
    "next(all_the_numbers) # when called again yields the next value in the list"
   ]
  },
  {
   "cell_type": "code",
   "execution_count": null,
   "metadata": {},
   "outputs": [],
   "source": [
    "next(all_the_numbers) # and so on..."
   ]
  },
  {
   "cell_type": "code",
   "execution_count": null,
   "metadata": {},
   "outputs": [],
   "source": [
    "# and unlike return, you can have multiple yield statements in a function  \n",
    "\n",
    "def inf_seq2():\n",
    "    num = 0\n",
    "    while True:\n",
    "        yield num\n",
    "        num += 1 # note that we can also do operations after the yield, since the function hasn't be exhausted as \n",
    "                 # happens with return - the operation will just occur with the next call of the function, unless...\n",
    "        yield \"taking a break\" # you've added a second yield"
   ]
  },
  {
   "cell_type": "code",
   "execution_count": null,
   "metadata": {},
   "outputs": [],
   "source": [
    "more_numbers = inf_seq2() # assign to variable"
   ]
  },
  {
   "cell_type": "code",
   "execution_count": null,
   "metadata": {},
   "outputs": [],
   "source": [
    "next(more_numbers) # first call gives back the first yield"
   ]
  },
  {
   "cell_type": "code",
   "execution_count": null,
   "metadata": {},
   "outputs": [],
   "source": [
    "next(more_numbers) # second call gives back the second yield"
   ]
  },
  {
   "cell_type": "code",
   "execution_count": null,
   "metadata": {},
   "outputs": [],
   "source": [
    "next(more_numbers) # the third call goes back to the first yield, but returns the next value in the list"
   ]
  },
  {
   "cell_type": "code",
   "execution_count": null,
   "metadata": {},
   "outputs": [],
   "source": [
    "next(more_numbers) # then we see the second yield again"
   ]
  },
  {
   "cell_type": "code",
   "execution_count": null,
   "metadata": {},
   "outputs": [],
   "source": [
    "next(more_numbers) # and then back to the first yield, but with the next value, etc."
   ]
  },
  {
   "cell_type": "code",
   "execution_count": null,
   "metadata": {},
   "outputs": [],
   "source": [
    "# and what if the loop isn't infinite?\n",
    "\n",
    "def finite_num():\n",
    "        nums = [1,2,3] # a very not infinite list\n",
    "        for num in nums:\n",
    "            yield num"
   ]
  },
  {
   "cell_type": "code",
   "execution_count": null,
   "metadata": {},
   "outputs": [],
   "source": [
    "some_nums = finite_num() # assign to variable"
   ]
  },
  {
   "cell_type": "code",
   "execution_count": null,
   "metadata": {},
   "outputs": [],
   "source": [
    "next(some_nums)"
   ]
  },
  {
   "cell_type": "code",
   "execution_count": null,
   "metadata": {},
   "outputs": [],
   "source": [
    "next(some_nums)"
   ]
  },
  {
   "cell_type": "code",
   "execution_count": null,
   "metadata": {},
   "outputs": [],
   "source": [
    "next(some_nums)"
   ]
  },
  {
   "cell_type": "code",
   "execution_count": null,
   "metadata": {},
   "outputs": [],
   "source": [
    "next(some_nums) # gives back notice that the end of the list has been reached and generator is done"
   ]
  },
  {
   "cell_type": "code",
   "execution_count": null,
   "metadata": {},
   "outputs": [],
   "source": [
    "list_of_numbers = list(finite_num()) # you an also assign the generator to a list"
   ]
  },
  {
   "cell_type": "code",
   "execution_count": null,
   "metadata": {},
   "outputs": [],
   "source": [
    "print(list_of_numbers) # and printing out the list yields into one list all at once"
   ]
  },
  {
   "cell_type": "markdown",
   "metadata": {},
   "source": [
    "###### Another useful way to use generators is to slowly read in large files (note, the example I have below isn't terribly large - but gives you an idea of how it pulls things in)."
   ]
  },
  {
   "cell_type": "code",
   "execution_count": null,
   "metadata": {},
   "outputs": [],
   "source": [
    "import csv"
   ]
  },
  {
   "cell_type": "code",
   "execution_count": null,
   "metadata": {},
   "outputs": [],
   "source": [
    "# so, this is the normal file reading method...will just give you back the first line of the file\n",
    "\n",
    "def normal_file_read(file):\n",
    "    with open(file) as opened_file:\n",
    "        for line in opened_file:\n",
    "            return line "
   ]
  },
  {
   "cell_type": "code",
   "execution_count": null,
   "metadata": {},
   "outputs": [],
   "source": [
    "print(normal_file_read('nics-firearm-background-checks.csv'))"
   ]
  },
  {
   "cell_type": "code",
   "execution_count": null,
   "metadata": {},
   "outputs": [],
   "source": [
    "# using a generator (with the same code, except swap yield for return) and you can iterate and view each line as you go\n",
    "# to get more than the first row using return, you'd need to write the whole file into a list, using up a lot of memory\n",
    "\n",
    "def read_large_file(file_object):\n",
    "    with open(file_object) as open_file:\n",
    "        for line in open_file:  \n",
    "            yield line"
   ]
  },
  {
   "cell_type": "code",
   "execution_count": null,
   "metadata": {},
   "outputs": [],
   "source": [
    "file = read_large_file('nics-firearm-background-checks.csv') # assign to variable"
   ]
  },
  {
   "cell_type": "code",
   "execution_count": null,
   "metadata": {
    "scrolled": true
   },
   "outputs": [],
   "source": [
    "next(file)"
   ]
  },
  {
   "cell_type": "code",
   "execution_count": null,
   "metadata": {
    "scrolled": true
   },
   "outputs": [],
   "source": [
    "next(file)"
   ]
  },
  {
   "cell_type": "code",
   "execution_count": null,
   "metadata": {},
   "outputs": [],
   "source": [
    "next(file)"
   ]
  },
  {
   "cell_type": "code",
   "execution_count": null,
   "metadata": {},
   "outputs": [],
   "source": [
    "next(file)"
   ]
  },
  {
   "cell_type": "code",
   "execution_count": null,
   "metadata": {},
   "outputs": [],
   "source": [
    "# we can also return more than one line at a time, when we iterate through\n",
    "# https://www.kite.com/python/answers/how-to-append-elements-to-a-list-while-iterating-over-the-list-in-python\n",
    "        \n",
    "def read_large_file(filename, bin_len): # bin_len = how many lines you want to see\n",
    "    with open(filename, 'r') as open_file:\n",
    "        while True: # so it will keep looping through the file\n",
    "            group = [] # create an empty list\n",
    "            for lines in range(bin_len): # find the group of lines \n",
    "                group.append(next(open_file)) # append them to the list with next() - check out the link above\n",
    "            yield group"
   ]
  },
  {
   "cell_type": "code",
   "execution_count": null,
   "metadata": {},
   "outputs": [],
   "source": [
    "file = read_large_file('nics-firearm-background-checks.csv', 5) # assign to variable"
   ]
  },
  {
   "cell_type": "code",
   "execution_count": null,
   "metadata": {},
   "outputs": [],
   "source": [
    "next(file) # call the generator"
   ]
  },
  {
   "cell_type": "code",
   "execution_count": null,
   "metadata": {},
   "outputs": [],
   "source": [
    "next(file) # the next call has looped through and found the next five"
   ]
  },
  {
   "cell_type": "code",
   "execution_count": null,
   "metadata": {},
   "outputs": [],
   "source": [
    "next(file) # and so on"
   ]
  },
  {
   "cell_type": "markdown",
   "metadata": {},
   "source": [
    "###### Being able to iterate through a file little by little and process it will save on memory - creating a 'data pipeline'.\n",
    "\n",
    "https://realpython.com/introduction-to-python-generators/#using-advanced-generator-methods"
   ]
  },
  {
   "cell_type": "code",
   "execution_count": null,
   "metadata": {},
   "outputs": [],
   "source": [
    "file_name = \"nics-firearm-background-checks.csv\" # assign file name\n",
    "lines = (line for line in open(file_name)) # create generator expression to read through file\n",
    "list_lines = (s.rstrip().split(\",\") for s in lines) # another expression to make each line into a list\n",
    "header = next(list_lines) # assign the first next() call to a variable, which should be the column headers"
   ]
  },
  {
   "cell_type": "code",
   "execution_count": null,
   "metadata": {},
   "outputs": [],
   "source": [
    "print(header)"
   ]
  },
  {
   "cell_type": "code",
   "execution_count": null,
   "metadata": {},
   "outputs": [],
   "source": [
    "# now you can start making dictionaries from the data\n",
    "\n",
    "file_dicts = (dict(zip(header, data)) for data in list_lines)"
   ]
  },
  {
   "cell_type": "code",
   "execution_count": null,
   "metadata": {},
   "outputs": [],
   "source": [
    "print(file_dicts) # just checking the generator is good to go"
   ]
  },
  {
   "cell_type": "code",
   "execution_count": null,
   "metadata": {},
   "outputs": [],
   "source": [
    "next(file_dicts) # iterate and take a look at the dictionaries"
   ]
  },
  {
   "cell_type": "code",
   "execution_count": null,
   "metadata": {},
   "outputs": [],
   "source": [
    "# do some processing/evaluating - here we are getting the total number of permits filed for the state of Alabama\n",
    "# this generator will loop through the dictionaries and find any permit values for Alabama\n",
    "\n",
    "monthly_total = (\n",
    "    int(file_dict['permit'])\n",
    "    for file_dict in file_dicts\n",
    "    if file_dict[\"state\"] == 'Alabama'\n",
    ")"
   ]
  },
  {
   "cell_type": "code",
   "execution_count": null,
   "metadata": {},
   "outputs": [],
   "source": [
    "next(monthly_total) # peruse the permit values for Alabama in the dictionaries"
   ]
  },
  {
   "cell_type": "code",
   "execution_count": null,
   "metadata": {},
   "outputs": [],
   "source": [
    "state_total = sum(monthly_total) # this runs the generator and sums the permit values as it iterates \n",
    "                                 # as opposed to pulling all the values and saving into memory first"
   ]
  },
  {
   "cell_type": "code",
   "execution_count": null,
   "metadata": {},
   "outputs": [],
   "source": [
    "print('Alabama total permits:', state_total) # total permits for Alabama in the csv file"
   ]
  },
  {
   "cell_type": "markdown",
   "metadata": {},
   "source": [
    "###### You have to be careful...the subsequent generators will start on whatever values are \"left\" in the generators that are used as inputs into expressions (running the list_lines generator to view the first actual row in the file returned a record from Alabama, which then was not counted in the permit tally and \"perusing\" the permits for Alabama ran through the monthly_total generator, also decreasing the state_total)"
   ]
  },
  {
   "cell_type": "markdown",
   "metadata": {},
   "source": [
    "###### Some of the Youtube tutorials I noted initially go through examples (that may or may not look familiar) and include processing times and memory evaluations for return vs yield and list comprehension vs generator expressions.  The time variance isn't as profound (that I've seen in my searching), but the memory savings is huge."
   ]
  },
  {
   "cell_type": "code",
   "execution_count": null,
   "metadata": {},
   "outputs": [],
   "source": []
  }
 ],
 "metadata": {
  "kernelspec": {
   "display_name": "Python 3",
   "language": "python",
   "name": "python3"
  },
  "language_info": {
   "codemirror_mode": {
    "name": "ipython",
    "version": 3
   },
   "file_extension": ".py",
   "mimetype": "text/x-python",
   "name": "python",
   "nbconvert_exporter": "python",
   "pygments_lexer": "ipython3",
   "version": "3.8.5"
  }
 },
 "nbformat": 4,
 "nbformat_minor": 4
}
